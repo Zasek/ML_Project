{
 "cells": [
  {
   "cell_type": "code",
   "execution_count": 14,
   "metadata": {
    "collapsed": false
   },
   "outputs": [],
   "source": [
    "import pandas as pd\n",
    "import numpy as np\n",
    "\n",
    "path_to_bots = \"/Users/jiazhenzhang/Desktop/Machine_learning\"\n",
    "path_to_nonbots = \"/Users/jiazhenzhang/Desktop/Machine_learning\"\n",
    "\n",
    "bots_data = pd.read_csv(path_to_bots+\"/bots_data.csv\", encoding=\"ISO-8859-1\")\n",
    "nonbots_data = pd.read_csv(path_to_nonbots+\"/nonbots_data.csv\", encoding=\"ISO-8859-1\")"
   ]
  },
  {
   "cell_type": "code",
   "execution_count": 15,
   "metadata": {
    "collapsed": false
   },
   "outputs": [
    {
     "data": {
      "text/plain": [
       "(2232, 20)"
      ]
     },
     "execution_count": 15,
     "metadata": {},
     "output_type": "execute_result"
    }
   ],
   "source": [
    "combined_data = pd.concat([nonbots_data, bots_data])\n",
    "combined_data.shape"
   ]
  },
  {
   "cell_type": "code",
   "execution_count": 16,
   "metadata": {
    "collapsed": true
   },
   "outputs": [],
   "source": [
    "from sklearn.feature_extraction.text import CountVectorizer\n",
    "from sklearn.model_selection import cross_val_score\n",
    "from sklearn.naive_bayes import MultinomialNB"
   ]
  },
  {
   "cell_type": "code",
   "execution_count": 17,
   "metadata": {
    "collapsed": false
   },
   "outputs": [
    {
     "data": {
      "text/plain": [
       "(2232, 7756)"
      ]
     },
     "execution_count": 17,
     "metadata": {},
     "output_type": "execute_result"
    }
   ],
   "source": [
    "count_vect = CountVectorizer()\n",
    "combined_data['description'].fillna(\"#$%^&*@\", inplace=True)\n",
    "combined_data_filled = combined_data\n",
    "combined_count = count_vect.fit_transform(combined_data_filled['description'])\n",
    "combined_count.shape"
   ]
  },
  {
   "cell_type": "code",
   "execution_count": 18,
   "metadata": {
    "collapsed": false
   },
   "outputs": [],
   "source": [
    "mnclf = MultinomialNB().fit(combined_count, combined_data_filled['bot'])"
   ]
  },
  {
   "cell_type": "code",
   "execution_count": 19,
   "metadata": {
    "collapsed": false
   },
   "outputs": [
    {
     "name": "stdout",
     "output_type": "stream",
     "text": [
      "(Multinomial)Accuracy is :0.743735986547\n",
      "(Multinomial)Precision is :0.765008095115\n",
      "(Multinomial)Recall is :0.661951175892\n",
      "(Multinomial)F1 is :0.709523881282\n",
      "(Multinomial)ROC_AUC is :0.843407572345\n"
     ]
    }
   ],
   "source": [
    "bscores = np.mean(cross_val_score(mnclf, combined_count, combined_data_filled['bot'], cv=5, scoring = 'accuracy'))\n",
    "print(\"(Multinomial)Accuracy is :\" + str(bscores))\n",
    "bscores = np.mean(cross_val_score(mnclf, combined_count, combined_data_filled['bot'], cv=5, scoring = 'precision'))\n",
    "print(\"(Multinomial)Precision is :\" + str(bscores))\n",
    "bscores = np.mean(cross_val_score(mnclf, combined_count, combined_data_filled['bot'], cv=5, scoring = 'recall'))\n",
    "print(\"(Multinomial)Recall is :\" + str(bscores))\n",
    "bscores = np.mean(cross_val_score(mnclf, combined_count, combined_data_filled['bot'], cv=5, scoring = 'f1'))\n",
    "print(\"(Multinomial)F1 is :\" + str(bscores))\n",
    "bscores = np.mean(cross_val_score(mnclf, combined_count, combined_data_filled['bot'], cv=5, scoring = 'roc_auc'))\n",
    "print(\"(Multinomial)ROC_AUC is :\" + str(bscores))"
   ]
  },
  {
   "cell_type": "markdown",
   "metadata": {},
   "source": [
    "# This is another part. Combine 4 columns"
   ]
  },
  {
   "cell_type": "code",
   "execution_count": 20,
   "metadata": {
    "collapsed": false
   },
   "outputs": [],
   "source": [
    "from sklearn.naive_bayes import BernoulliNB\n",
    "from sklearn.metrics import roc_auc_score\n",
    "four_column = []\n",
    "for index, row in combined_data.iterrows():\n",
    "    #s = str(row['default_profile'])+str(row['default_profile_image'])+str(row['verified'])+str(row['has_extended_profile'])\n",
    "    s = row['description']\n",
    "    if str(row['default_profile']) == \"True\":\n",
    "        s = s + \"aa\"\n",
    "    else:\n",
    "        s = s + \"bb\"\n",
    "    if str(row['default_profile_image']) == \"True\":\n",
    "        s = s + \"cc\"\n",
    "    else:\n",
    "        s = s + \"dd\"\n",
    "    if str(row['verified']) == \"True\":\n",
    "        s = s + \"ee\"\n",
    "    else:\n",
    "        s = s + \"ff\"\n",
    "    if str(row['has_extended_profile']) == \"True\":\n",
    "        s = s + \"gg\"\n",
    "    else:\n",
    "        s = s + \"hh\"\n",
    "    four_column.append(s)\n",
    "combined_data['four_column'] = four_column\n"
   ]
  },
  {
   "cell_type": "code",
   "execution_count": 21,
   "metadata": {
    "collapsed": false
   },
   "outputs": [
    {
     "data": {
      "text/plain": [
       "(2232, 8092)"
      ]
     },
     "execution_count": 21,
     "metadata": {},
     "output_type": "execute_result"
    }
   ],
   "source": [
    "count_vec_2 = CountVectorizer()\n",
    "second_count = count_vec_2.fit_transform(combined_data['four_column'])\n",
    "mnclf_2 = BernoulliNB().fit(second_count, combined_data['bot'])\n",
    "second_count.shape"
   ]
  },
  {
   "cell_type": "code",
   "execution_count": 22,
   "metadata": {
    "collapsed": false
   },
   "outputs": [
    {
     "name": "stdout",
     "output_type": "stream",
     "text": [
      "(Multinomial)Accuracy is :0.797970051249\n",
      "(Multinomial)Precision is :0.773413354534\n",
      "(Multinomial)Recall is :0.810627738532\n",
      "(Multinomial)F1 is :0.791515415874\n",
      "(Multinomial)ROC_AUC is :0.880932341166\n"
     ]
    }
   ],
   "source": [
    "bscores = np.mean(cross_val_score(mnclf_2, second_count, combined_data_filled['bot'], cv=5, scoring = 'accuracy'))\n",
    "print(\"(Multinomial)Accuracy is :\" + str(bscores))\n",
    "bscores = np.mean(cross_val_score(mnclf_2, second_count, combined_data_filled['bot'], cv=5, scoring = 'precision'))\n",
    "print(\"(Multinomial)Precision is :\" + str(bscores))\n",
    "bscores = np.mean(cross_val_score(mnclf_2, second_count, combined_data_filled['bot'], cv=5, scoring = 'recall'))\n",
    "print(\"(Multinomial)Recall is :\" + str(bscores))\n",
    "bscores = np.mean(cross_val_score(mnclf_2, second_count, combined_data_filled['bot'], cv=5, scoring = 'f1'))\n",
    "print(\"(Multinomial)F1 is :\" + str(bscores))\n",
    "bscores = np.mean(cross_val_score(mnclf_2, second_count, combined_data_filled['bot'], cv=5, scoring = 'roc_auc'))\n",
    "print(\"(Multinomial)ROC_AUC is :\" + str(bscores))"
   ]
  },
  {
   "cell_type": "markdown",
   "metadata": {},
   "source": [
    "# Deal with numbers"
   ]
  },
  {
   "cell_type": "code",
   "execution_count": 23,
   "metadata": {
    "collapsed": false
   },
   "outputs": [
    {
     "data": {
      "text/plain": [
       "(2232,)"
      ]
     },
     "execution_count": 23,
     "metadata": {},
     "output_type": "execute_result"
    }
   ],
   "source": [
    "ratio_column = []\n",
    "result_column = []\n",
    "len_name = []\n",
    "for index, row in combined_data.iterrows():\n",
    "    followers = row['followers_count']\n",
    "    friends = row['friends_count']\n",
    "    listcount = row['listedcount']\n",
    "    len_name.append(len(row['name']))\n",
    "    ratio = 0\n",
    "    if followers == 0:\n",
    "        ratio = friends * 100\n",
    "    else:\n",
    "        ratio = friends / followers\n",
    "    ratio_column.append(ratio)\n",
    "\n",
    "def f_range(a, b, c):\n",
    "    if a <= c < b:\n",
    "        return True\n",
    "    else:\n",
    "        return False\n",
    "    \n",
    "for num in ratio_column:\n",
    "    if f_range(0, 0.001, num):\n",
    "        result_column.append(\"AA\")\n",
    "        continue\n",
    "    if f_range(0.001, 0.01, num):\n",
    "        result_column.append(\"BB\")\n",
    "        continue\n",
    "    if f_range(0.01, 0.1, num):\n",
    "        result_column.append(\"CC\")\n",
    "        continue\n",
    "    if f_range(0.1, 0.4, num):\n",
    "        result_column.append(\"DD\")\n",
    "        continue\n",
    "    if f_range(0.4, 0.7, num):\n",
    "        result_column.append(\"EE\")\n",
    "        continue\n",
    "    if f_range(0.7, 1, num):\n",
    "        result_column.append(\"FF\")\n",
    "        continue\n",
    "    if f_range(1, 2, num):\n",
    "        result_column.append(\"GG\")\n",
    "        continue\n",
    "    if f_range(2, 5, num):\n",
    "        result_column.append(\"HH\")\n",
    "        continue\n",
    "    if f_range(5, 10, num):\n",
    "        result_column.append(\"II\")\n",
    "        continue\n",
    "    if f_range(10, 90000000000000000, num):\n",
    "        result_column.append(\"JJ\")\n",
    "        continue\n",
    "combined_data['ffratio'] = result_column\n",
    "combined_data['ffratio'].shape"
   ]
  },
  {
   "cell_type": "code",
   "execution_count": 24,
   "metadata": {
    "collapsed": false
   },
   "outputs": [
    {
     "data": {
      "text/plain": [
       "(2232, 5)"
      ]
     },
     "execution_count": 24,
     "metadata": {},
     "output_type": "execute_result"
    }
   ],
   "source": [
    "count_vec_3 = CountVectorizer()\n",
    "third_count = count_vec_3.fit_transform(combined_data['ffratio'])\n",
    "mnclf_3 = MultinomialNB().fit(third_count, combined_data['bot'])\n",
    "third_count.shape"
   ]
  },
  {
   "cell_type": "code",
   "execution_count": 25,
   "metadata": {
    "collapsed": false
   },
   "outputs": [
    {
     "name": "stdout",
     "output_type": "stream",
     "text": [
      "(Multinomial)Accuracy is :0.623658712364\n",
      "(Multinomial)Precision is :0.850602507872\n",
      "(Multinomial)Recall is :0.249052132701\n",
      "(Multinomial)F1 is :0.384445999253\n",
      "(Multinomial)ROC_AUC is :0.661623289138\n"
     ]
    }
   ],
   "source": [
    "bscores = np.mean(cross_val_score(mnclf_3, third_count, combined_data_filled['bot'], cv=5, scoring = 'accuracy'))\n",
    "print(\"(Multinomial)Accuracy is :\" + str(bscores))\n",
    "bscores = np.mean(cross_val_score(mnclf_3, third_count, combined_data_filled['bot'], cv=5, scoring = 'precision'))\n",
    "print(\"(Multinomial)Precision is :\" + str(bscores))\n",
    "bscores = np.mean(cross_val_score(mnclf_3, third_count, combined_data_filled['bot'], cv=5, scoring = 'recall'))\n",
    "print(\"(Multinomial)Recall is :\" + str(bscores))\n",
    "bscores = np.mean(cross_val_score(mnclf_3, third_count, combined_data_filled['bot'], cv=5, scoring = 'f1'))\n",
    "print(\"(Multinomial)F1 is :\" + str(bscores))\n",
    "bscores = np.mean(cross_val_score(mnclf_3, third_count, combined_data_filled['bot'], cv=5, scoring = 'roc_auc'))\n",
    "print(\"(Multinomial)ROC_AUC is :\" + str(bscores))"
   ]
  },
  {
   "cell_type": "markdown",
   "metadata": {
    "collapsed": true
   },
   "source": [
    "# Other Algorithm"
   ]
  },
  {
   "cell_type": "code",
   "execution_count": 26,
   "metadata": {
    "collapsed": false
   },
   "outputs": [
    {
     "name": "stderr",
     "output_type": "stream",
     "text": [
      "/Users/jiazhenzhang/anaconda/lib/python2.7/site-packages/ipykernel/__main__.py:4: SettingWithCopyWarning: \n",
      "A value is trying to be set on a copy of a slice from a DataFrame.\n",
      "Try using .loc[row_indexer,col_indexer] = value instead\n",
      "\n",
      "See the caveats in the documentation: http://pandas.pydata.org/pandas-docs/stable/indexing.html#indexing-view-versus-copy\n",
      "/Users/jiazhenzhang/anaconda/lib/python2.7/site-packages/ipykernel/__main__.py:5: SettingWithCopyWarning: \n",
      "A value is trying to be set on a copy of a slice from a DataFrame.\n",
      "Try using .loc[row_indexer,col_indexer] = value instead\n",
      "\n",
      "See the caveats in the documentation: http://pandas.pydata.org/pandas-docs/stable/indexing.html#indexing-view-versus-copy\n"
     ]
    },
    {
     "data": {
      "text/html": [
       "<div>\n",
       "<table border=\"1\" class=\"dataframe\">\n",
       "  <thead>\n",
       "    <tr style=\"text-align: right;\">\n",
       "      <th></th>\n",
       "      <th>default_profile</th>\n",
       "      <th>default_profile_image</th>\n",
       "      <th>verified</th>\n",
       "      <th>has_extended_profile</th>\n",
       "      <th>friends_count</th>\n",
       "      <th>followers_count</th>\n",
       "      <th>listedcount</th>\n",
       "      <th>statuses_count</th>\n",
       "      <th>favourites_count</th>\n",
       "      <th>ratio</th>\n",
       "      <th>name</th>\n",
       "    </tr>\n",
       "  </thead>\n",
       "  <tbody>\n",
       "    <tr>\n",
       "      <th>0</th>\n",
       "      <td>False</td>\n",
       "      <td>False</td>\n",
       "      <td>True</td>\n",
       "      <td>True</td>\n",
       "      <td>76070</td>\n",
       "      <td>571310</td>\n",
       "      <td>4909</td>\n",
       "      <td>56077</td>\n",
       "      <td>37437</td>\n",
       "      <td>0</td>\n",
       "      <td>12</td>\n",
       "    </tr>\n",
       "    <tr>\n",
       "      <th>1</th>\n",
       "      <td>False</td>\n",
       "      <td>False</td>\n",
       "      <td>True</td>\n",
       "      <td>False</td>\n",
       "      <td>963</td>\n",
       "      <td>292385</td>\n",
       "      <td>6076</td>\n",
       "      <td>16688</td>\n",
       "      <td>1248</td>\n",
       "      <td>0</td>\n",
       "      <td>15</td>\n",
       "    </tr>\n",
       "    <tr>\n",
       "      <th>2</th>\n",
       "      <td>True</td>\n",
       "      <td>True</td>\n",
       "      <td>False</td>\n",
       "      <td>False</td>\n",
       "      <td>7</td>\n",
       "      <td>1</td>\n",
       "      <td>0</td>\n",
       "      <td>3</td>\n",
       "      <td>0</td>\n",
       "      <td>7</td>\n",
       "      <td>15</td>\n",
       "    </tr>\n",
       "    <tr>\n",
       "      <th>3</th>\n",
       "      <td>False</td>\n",
       "      <td>False</td>\n",
       "      <td>True</td>\n",
       "      <td>False</td>\n",
       "      <td>352</td>\n",
       "      <td>222659</td>\n",
       "      <td>3261</td>\n",
       "      <td>10999</td>\n",
       "      <td>143</td>\n",
       "      <td>0</td>\n",
       "      <td>16</td>\n",
       "    </tr>\n",
       "    <tr>\n",
       "      <th>4</th>\n",
       "      <td>False</td>\n",
       "      <td>False</td>\n",
       "      <td>False</td>\n",
       "      <td>False</td>\n",
       "      <td>446</td>\n",
       "      <td>646</td>\n",
       "      <td>2</td>\n",
       "      <td>25292</td>\n",
       "      <td>13440</td>\n",
       "      <td>0</td>\n",
       "      <td>7</td>\n",
       "    </tr>\n",
       "  </tbody>\n",
       "</table>\n",
       "</div>"
      ],
      "text/plain": [
       "  default_profile default_profile_image verified has_extended_profile  \\\n",
       "0           False                 False     True                 True   \n",
       "1           False                 False     True                False   \n",
       "2            True                  True    False                False   \n",
       "3           False                 False     True                False   \n",
       "4           False                 False    False                False   \n",
       "\n",
       "   friends_count  followers_count  listedcount  statuses_count  \\\n",
       "0          76070           571310         4909           56077   \n",
       "1            963           292385         6076           16688   \n",
       "2              7                1            0               3   \n",
       "3            352           222659         3261           10999   \n",
       "4            446              646            2           25292   \n",
       "\n",
       "   favourites_count  ratio  name  \n",
       "0             37437      0    12  \n",
       "1              1248      0    15  \n",
       "2                 0      7    15  \n",
       "3               143      0    16  \n",
       "4             13440      0     7  "
      ]
     },
     "execution_count": 26,
     "metadata": {},
     "output_type": "execute_result"
    }
   ],
   "source": [
    "from sklearn.ensemble import RandomForestClassifier\n",
    "from sklearn.ensemble import ExtraTreesClassifier, AdaBoostClassifier, GradientBoostingClassifier\n",
    "fourth_data = combined_data[['default_profile', 'default_profile_image', 'verified', 'has_extended_profile', 'friends_count', 'followers_count', 'listedcount', 'statuses_count', 'favourites_count']]\n",
    "fourth_data['ratio'] = ratio_column\n",
    "fourth_data['name'] = len_name\n",
    "fourth_data.head(5)"
   ]
  },
  {
   "cell_type": "code",
   "execution_count": 29,
   "metadata": {
    "collapsed": false
   },
   "outputs": [
    {
     "name": "stdout",
     "output_type": "stream",
     "text": [
      "(GradientBoosting)Accuracy is :0.89427049968\n",
      "(GradientBoosting)Precision is :0.904636836696\n",
      "(GradientBoosting)Recall is :0.868385048735\n",
      "(GradientBoosting)F1 is :0.885921353258\n",
      "(GradientBoosting)ROC_AUC is :0.959472272161\n"
     ]
    }
   ],
   "source": [
    "rfmodel = GradientBoostingClassifier(n_estimators = 100, random_state = 10)\n",
    "#rfmodel = RandomForestClassifier(n_estimators = 100, max_features = 7)\n",
    "fourth_data.fillna(\"12345\", inplace=True)\n",
    "bscores = np.mean(cross_val_score(rfmodel, fourth_data, combined_data_filled['bot'], cv=5, scoring = 'accuracy'))\n",
    "print(\"(GradientBoosting)Accuracy is :\" + str(bscores))\n",
    "bscores = np.mean(cross_val_score(rfmodel, fourth_data, combined_data_filled['bot'], cv=5, scoring = 'precision'))\n",
    "print(\"(GradientBoosting)Precision is :\" + str(bscores))\n",
    "bscores = np.mean(cross_val_score(rfmodel, fourth_data, combined_data_filled['bot'], cv=5, scoring = 'recall'))\n",
    "print(\"(GradientBoosting)Recall is :\" + str(bscores))\n",
    "bscores = np.mean(cross_val_score(rfmodel, fourth_data, combined_data_filled['bot'], cv=5, scoring = 'f1'))\n",
    "print(\"(GradientBoosting)F1 is :\" + str(bscores))\n",
    "bscores = np.mean(cross_val_score(rfmodel, fourth_data, combined_data_filled['bot'], cv=5, scoring = 'roc_auc'))\n",
    "print(\"(GradientBoosting)ROC_AUC is :\" + str(bscores))"
   ]
  },
  {
   "cell_type": "code",
   "execution_count": 230,
   "metadata": {
    "collapsed": false
   },
   "outputs": [
    {
     "name": "stdout",
     "output_type": "stream",
     "text": [
      "(Randomforest)Accuracy is :0.473118193466\n",
      "(Randomforest)Precision is :0.473118193466\n",
      "(Randomforest)Recall is :1.0\n",
      "(Randomforest)F1 is :0.642335685623\n",
      "(Randomforest)ROC_AUC is :0.468050949278\n"
     ]
    }
   ],
   "source": [
    "from sklearn.neural_network import MLPClassifier\n",
    "mlpclf = MLPClassifier(solver='lbfgs', alpha=1e-5, hidden_layer_sizes=(30, 5, 30), random_state=1, max_iter = 300)\n",
    "sclf = mlpclf.fit(fourth_data, combined_data['bot'])\n",
    "bscores = np.mean(cross_val_score(sclf, fourth_data, combined_data_filled['bot'], cv=5, scoring = 'accuracy'))\n",
    "print(\"(Randomforest)Accuracy is :\" + str(bscores))\n",
    "bscores = np.mean(cross_val_score(sclf, fourth_data, combined_data_filled['bot'], cv=5, scoring = 'precision'))\n",
    "print(\"(Randomforest)Precision is :\" + str(bscores))\n",
    "bscores = np.mean(cross_val_score(sclf, fourth_data, combined_data_filled['bot'], cv=5, scoring = 'recall'))\n",
    "print(\"(Randomforest)Recall is :\" + str(bscores))\n",
    "bscores = np.mean(cross_val_score(sclf, fourth_data, combined_data_filled['bot'], cv=5, scoring = 'f1'))\n",
    "print(\"(Randomforest)F1 is :\" + str(bscores))\n",
    "bscores = np.mean(cross_val_score(sclf, fourth_data, combined_data_filled['bot'], cv=5, scoring = 'roc_auc'))\n",
    "print(\"(Randomforest)ROC_AUC is :\" + str(bscores))"
   ]
  },
  {
   "cell_type": "code",
   "execution_count": null,
   "metadata": {
    "collapsed": true
   },
   "outputs": [],
   "source": []
  }
 ],
 "metadata": {
  "kernelspec": {
   "display_name": "Python 2",
   "language": "python",
   "name": "python2"
  },
  "language_info": {
   "codemirror_mode": {
    "name": "ipython",
    "version": 2
   },
   "file_extension": ".py",
   "mimetype": "text/x-python",
   "name": "python",
   "nbconvert_exporter": "python",
   "pygments_lexer": "ipython2",
   "version": "2.7.13"
  }
 },
 "nbformat": 4,
 "nbformat_minor": 2
}
